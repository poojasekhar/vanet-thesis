{
 "cells": [
  {
   "cell_type": "markdown",
   "id": "f612e6b6-7e30-4696-82df-99bf00e05eff",
   "metadata": {},
   "source": [
    "# **Generating CBR DataFrame**"
   ]
  },
  {
   "cell_type": "code",
   "execution_count": 1,
   "id": "652b7698-999d-4de0-8ee1-065b2b23d2db",
   "metadata": {},
   "outputs": [],
   "source": [
    "import sys\n",
    "import os\n",
    "import pandas as pd"
   ]
  },
  {
   "cell_type": "markdown",
   "id": "06d861a7-5a72-4d2f-bf11-320cce0ac2a7",
   "metadata": {},
   "source": [
    "**Variables to Set**"
   ]
  },
  {
   "cell_type": "code",
   "execution_count": 2,
   "id": "e27d115d-46d6-4c0a-b18a-dfd422923583",
   "metadata": {},
   "outputs": [],
   "source": [
    "directory = 'C:\\Users\\Pooja Sekhar\\Desktop\\Thesis\\Virtual Machine\\HIghway3km'\n",
    "cbr_file_name = '0cbrqtest.txt'"
   ]
  },
  {
   "cell_type": "markdown",
   "id": "6d7a5363-e477-4b1f-9d8a-f02706751b5e",
   "metadata": {},
   "source": [
    "##### **Viewing Transmission Powers**"
   ]
  },
  {
   "cell_type": "code",
   "execution_count": 3,
   "id": "05d1a12d-827f-41f6-ac06-bd7b478c50f3",
   "metadata": {},
   "outputs": [
    {
     "data": {
      "text/plain": [
       "['10mW', '12mW', '14mW', '16mW', '18mW', '20mW', '2mW', '4mW', '6mW', '8mW']"
      ]
     },
     "execution_count": 3,
     "metadata": {},
     "output_type": "execute_result"
    }
   ],
   "source": [
    "arr = os.listdir(directory)\n",
    "arr"
   ]
  },
  {
   "cell_type": "markdown",
   "id": "ea8918f9-1fe7-473d-8bf1-c5d4500ead8c",
   "metadata": {},
   "source": [
    "##### **Generating CBR Values and Appending Data to Lists**"
   ]
  },
  {
   "cell_type": "code",
   "execution_count": 4,
   "id": "999e3491-0edd-42e5-a245-c084b9ba9708",
   "metadata": {},
   "outputs": [],
   "source": [
    "trans_power = []\n",
    "vehicle_density = []\n",
    "cbr_str = []\n",
    " \n",
    "for filename_1 in os.listdir(directory):\n",
    "    f = os.path.join(directory, filename_1)\n",
    "    for filename_2 in os.listdir(f):\n",
    "        b = os.path.join(f, filename_2) \n",
    "        g = os.path.join(b, cbr_file_name)\n",
    "        file = open(g, \"r\")\n",
    "        data = file.readline().strip('\\n')\n",
    "        sumCBR = 0\n",
    "        numVals = 0\n",
    "        j = 0\n",
    "        curIntervalStart = 0\n",
    "        cbrStr = \"\"\n",
    "        while data:\n",
    "            first = data.find('\\t')\n",
    "            second = data.find('\\t', first+1)\n",
    "            third = data.find('\\t', second+1)\n",
    "            simTime = eval(data[first+1:second])\n",
    "            cbr = eval(data[third+1:])\n",
    "            if simTime <= curIntervalStart + 5:\n",
    "                if cbr != -1:\n",
    "                    sumCBR += cbr\n",
    "                    numVals += 1\n",
    "            else:\n",
    "                if numVals > 0:\n",
    "                    cbrStr += str(curIntervalStart) + \" - \" + str(curIntervalStart + 5) + '\\t' + str(sumCBR/numVals) + '\\n'\n",
    "                    sumCBR = 0\n",
    "                    numVals = 0\n",
    "                    curIntervalStart += 5\n",
    "            j+=1\n",
    "            if j%10000 == 0:\n",
    "                print(j)\n",
    "            data = file.readline().strip('\\n')\n",
    "        cbrStr += str(curIntervalStart) + \" - \" + str(curIntervalStart + 5) + \\\n",
    "                      '\\t' + str(sumCBR/numVals) + '\\n'\n",
    "       \n",
    "        trans_power.append(filename_1)\n",
    "        vehicle_density.append(filename_2)\n",
    "        cbr_str.append(sumCBR/numVals)      "
   ]
  },
  {
   "cell_type": "markdown",
   "id": "11a48764-31a1-4381-afd9-2b029dc77160",
   "metadata": {},
   "source": [
    "**Creating DataFrame**"
   ]
  },
  {
   "cell_type": "code",
   "execution_count": 5,
   "id": "79a25b92-a76f-4ead-b43d-22b74ccf8fe2",
   "metadata": {},
   "outputs": [
    {
     "data": {
      "text/html": [
       "<div>\n",
       "<style scoped>\n",
       "    .dataframe tbody tr th:only-of-type {\n",
       "        vertical-align: middle;\n",
       "    }\n",
       "\n",
       "    .dataframe tbody tr th {\n",
       "        vertical-align: top;\n",
       "    }\n",
       "\n",
       "    .dataframe thead th {\n",
       "        text-align: right;\n",
       "    }\n",
       "</style>\n",
       "<table border=\"1\" class=\"dataframe\">\n",
       "  <thead>\n",
       "    <tr style=\"text-align: right;\">\n",
       "      <th></th>\n",
       "      <th>Transmission Power</th>\n",
       "      <th>Vehicle Density</th>\n",
       "      <th>CBR</th>\n",
       "    </tr>\n",
       "  </thead>\n",
       "  <tbody>\n",
       "    <tr>\n",
       "      <th>0</th>\n",
       "      <td>10mW</td>\n",
       "      <td>3km1</td>\n",
       "      <td>0.346846</td>\n",
       "    </tr>\n",
       "    <tr>\n",
       "      <th>1</th>\n",
       "      <td>10mW</td>\n",
       "      <td>3km3</td>\n",
       "      <td>0.534494</td>\n",
       "    </tr>\n",
       "    <tr>\n",
       "      <th>2</th>\n",
       "      <td>12mW</td>\n",
       "      <td>3km1</td>\n",
       "      <td>0.345962</td>\n",
       "    </tr>\n",
       "    <tr>\n",
       "      <th>3</th>\n",
       "      <td>12mW</td>\n",
       "      <td>3km3</td>\n",
       "      <td>0.534808</td>\n",
       "    </tr>\n",
       "    <tr>\n",
       "      <th>4</th>\n",
       "      <td>14mW</td>\n",
       "      <td>3km1</td>\n",
       "      <td>0.346369</td>\n",
       "    </tr>\n",
       "    <tr>\n",
       "      <th>5</th>\n",
       "      <td>14mW</td>\n",
       "      <td>3km3</td>\n",
       "      <td>0.535320</td>\n",
       "    </tr>\n",
       "    <tr>\n",
       "      <th>6</th>\n",
       "      <td>16mW</td>\n",
       "      <td>3km1</td>\n",
       "      <td>0.346648</td>\n",
       "    </tr>\n",
       "    <tr>\n",
       "      <th>7</th>\n",
       "      <td>16mW</td>\n",
       "      <td>3km3</td>\n",
       "      <td>0.537015</td>\n",
       "    </tr>\n",
       "    <tr>\n",
       "      <th>8</th>\n",
       "      <td>18mW</td>\n",
       "      <td>3km1</td>\n",
       "      <td>0.345779</td>\n",
       "    </tr>\n",
       "    <tr>\n",
       "      <th>9</th>\n",
       "      <td>18mW</td>\n",
       "      <td>3km3</td>\n",
       "      <td>0.536408</td>\n",
       "    </tr>\n",
       "    <tr>\n",
       "      <th>10</th>\n",
       "      <td>20mW</td>\n",
       "      <td>3km1</td>\n",
       "      <td>0.345816</td>\n",
       "    </tr>\n",
       "    <tr>\n",
       "      <th>11</th>\n",
       "      <td>20mW</td>\n",
       "      <td>3km3</td>\n",
       "      <td>0.536194</td>\n",
       "    </tr>\n",
       "    <tr>\n",
       "      <th>12</th>\n",
       "      <td>2mW</td>\n",
       "      <td>3km1</td>\n",
       "      <td>0.247217</td>\n",
       "    </tr>\n",
       "    <tr>\n",
       "      <th>13</th>\n",
       "      <td>2mW</td>\n",
       "      <td>3km3</td>\n",
       "      <td>0.388518</td>\n",
       "    </tr>\n",
       "    <tr>\n",
       "      <th>14</th>\n",
       "      <td>4mW</td>\n",
       "      <td>3km1</td>\n",
       "      <td>0.312623</td>\n",
       "    </tr>\n",
       "    <tr>\n",
       "      <th>15</th>\n",
       "      <td>4mW</td>\n",
       "      <td>3km3</td>\n",
       "      <td>0.479541</td>\n",
       "    </tr>\n",
       "    <tr>\n",
       "      <th>16</th>\n",
       "      <td>6mW</td>\n",
       "      <td>3km1</td>\n",
       "      <td>0.342107</td>\n",
       "    </tr>\n",
       "    <tr>\n",
       "      <th>17</th>\n",
       "      <td>6mW</td>\n",
       "      <td>3km3</td>\n",
       "      <td>0.527755</td>\n",
       "    </tr>\n",
       "    <tr>\n",
       "      <th>18</th>\n",
       "      <td>8mW</td>\n",
       "      <td>3km1</td>\n",
       "      <td>0.346592</td>\n",
       "    </tr>\n",
       "    <tr>\n",
       "      <th>19</th>\n",
       "      <td>8mW</td>\n",
       "      <td>3km3</td>\n",
       "      <td>0.535487</td>\n",
       "    </tr>\n",
       "  </tbody>\n",
       "</table>\n",
       "</div>"
      ],
      "text/plain": [
       "   Transmission Power Vehicle Density       CBR\n",
       "0                10mW            3km1  0.346846\n",
       "1                10mW            3km3  0.534494\n",
       "2                12mW            3km1  0.345962\n",
       "3                12mW            3km3  0.534808\n",
       "4                14mW            3km1  0.346369\n",
       "5                14mW            3km3  0.535320\n",
       "6                16mW            3km1  0.346648\n",
       "7                16mW            3km3  0.537015\n",
       "8                18mW            3km1  0.345779\n",
       "9                18mW            3km3  0.536408\n",
       "10               20mW            3km1  0.345816\n",
       "11               20mW            3km3  0.536194\n",
       "12                2mW            3km1  0.247217\n",
       "13                2mW            3km3  0.388518\n",
       "14                4mW            3km1  0.312623\n",
       "15                4mW            3km3  0.479541\n",
       "16                6mW            3km1  0.342107\n",
       "17                6mW            3km3  0.527755\n",
       "18                8mW            3km1  0.346592\n",
       "19                8mW            3km3  0.535487"
      ]
     },
     "execution_count": 5,
     "metadata": {},
     "output_type": "execute_result"
    }
   ],
   "source": [
    "df = pd.DataFrame(list(zip(trans_power, vehicle_density, cbr_str)),\n",
    "               columns =['Transmission Power', 'Vehicle Density', 'CBR'], index=None)\n",
    "df"
   ]
  },
  {
   "cell_type": "markdown",
   "id": "28a56ef1-3b48-4a8b-953a-b3b724940948",
   "metadata": {},
   "source": [
    "**Outputting CSV File**"
   ]
  },
  {
   "cell_type": "code",
   "execution_count": 6,
   "id": "54912982-c789-4c8c-bc5d-3ad252db9c83",
   "metadata": {},
   "outputs": [],
   "source": [
    "df.to_csv(\"cbr_results\", index=False)"
   ]
  }
 ],
 "metadata": {
  "kernelspec": {
   "display_name": "Python 3 (ipykernel)",
   "language": "python",
   "name": "python3"
  },
  "language_info": {
   "codemirror_mode": {
    "name": "ipython",
    "version": 3
   },
   "file_extension": ".py",
   "mimetype": "text/x-python",
   "name": "python",
   "nbconvert_exporter": "python",
   "pygments_lexer": "ipython3",
   "version": "3.9.13"
  }
 },
 "nbformat": 4,
 "nbformat_minor": 5
}
