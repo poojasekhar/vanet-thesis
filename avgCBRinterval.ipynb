{
 "cells": [
  {
   "cell_type": "code",
   "execution_count": null,
   "id": "615878fa-b6c8-45c8-b357-9f4ac17f870b",
   "metadata": {},
   "outputs": [],
   "source": [
    "import sys\n",
    "\n",
    "file = open(\"0cbrq.txt\", \"r\")\n",
    "data = file.readline().strip('\\n')\n",
    "\n",
    "sumCBR = 0\n",
    "numVals = 0\n",
    "j = 0\n",
    "curIntervalStart = 0\n",
    "cbrStr = \"\"\n",
    "while data:\n",
    "\tfirst = data.find('\\t')\n",
    "\tsecond = data.find('\\t', first+1)\n",
    "\tthird = data.find('\\t', second+1)\n",
    "\t\n",
    "\tsimTime = eval(data[first+1:second])\n",
    "\tcbr = eval(data[third+1:])\n",
    "\tif simTime <= curIntervalStart + 5:\n",
    "\t\tif cbr != -1:\n",
    "\t\t\tsumCBR += cbr\n",
    "\t\t\tnumVals += 1\n",
    "\telse:\n",
    "\t\tif numVals > 0:\n",
    "\t\t\tcbrStr += str(curIntervalStart) + \" - \" + str(curIntervalStart + 5) + \\\n",
    "                      '\\t' + str(sumCBR/numVals) + '\\n'\n",
    "\t\tsumCBR = 0\n",
    "\t\tnumVals = 0\n",
    "\t\tcurIntervalStart += 5\n",
    "\tj+=1\n",
    "\tif j%10000 == 0:\n",
    "\t\tprint(j)\n",
    "\tdata = file.readline().strip('\\n')\n",
    "\n",
    "cbrStr += str(curIntervalStart) + \" - \" + str(curIntervalStart + 5) + \\\n",
    "                      '\\t' + str(sumCBR/numVals) + '\\n'\n",
    "\n",
    "print(\"Average CBR:\")\n",
    "print(cbrStr)"
   ]
  }
 ],
 "metadata": {
  "kernelspec": {
   "display_name": "Python 3 (ipykernel)",
   "language": "python",
   "name": "python3"
  },
  "language_info": {
   "codemirror_mode": {
    "name": "ipython",
    "version": 3
   },
   "file_extension": ".py",
   "mimetype": "text/x-python",
   "name": "python",
   "nbconvert_exporter": "python",
   "pygments_lexer": "ipython3",
   "version": "3.9.13"
  }
 },
 "nbformat": 4,
 "nbformat_minor": 5
}
