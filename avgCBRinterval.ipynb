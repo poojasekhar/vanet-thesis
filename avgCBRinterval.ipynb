{
 "cells": [
  {
   "cell_type": "code",
   "execution_count": 51,
   "id": "615878fa-b6c8-45c8-b357-9f4ac17f870b",
   "metadata": {},
   "outputs": [
    {
     "name": "stdout",
     "output_type": "stream",
     "text": [
      "10000\n",
      "20000\n",
      "30000\n",
      "40000\n",
      "50000\n",
      "60000\n",
      "Average CBR:\n",
      "0.27853046610879995\n",
      "0.30290026177507146\n",
      "0.3048265625199865\n",
      "0.3044883671900034\n",
      "0.30276502878158074\n",
      "0.3023578574174935\n",
      "0.3028814643428204\n",
      "0.30298811919256696\n",
      "0.30204910425327847\n",
      "0.30052444184556204\n",
      "0.30258915542053105\n",
      "0.3000785020826655\n",
      "0.29840650655580414\n",
      "0.2965018817686642\n",
      "0.2984739533098823\n",
      "0.29885235020826656\n",
      "0.29780967125039937\n",
      "0.2973485722524833\n",
      "0.3010453613687241\n",
      "0.3022094043575781\n",
      "\n"
     ]
    }
   ],
   "source": [
    "import sys\n",
    "\n",
    "file = open(\"0cbrq.txt\", \"r\")\n",
    "data = file.readline().strip('\\n')\n",
    "\n",
    "sumCBR = 0\n",
    "numVals = 0\n",
    "j = 0\n",
    "curIntervalStart = 0\n",
    "cbrStr = \"\"\n",
    "while data:\n",
    "\tfirst = data.find('\\t')\n",
    "\tsecond = data.find('\\t', first+1)\n",
    "\tthird = data.find('\\t', second+1)\n",
    "\t\n",
    "\tsimTime = eval(data[first+1:second])\n",
    "\tcbr = eval(data[third+1:])\n",
    "\tif simTime <= curIntervalStart + 5:\n",
    "\t\tif cbr != -1:\n",
    "\t\t\tsumCBR += cbr\n",
    "\t\t\tnumVals += 1\n",
    "\telse:\n",
    "\t\tif numVals > 0:\n",
    "\t\t\tcbrStr += str(sumCBR/numVals) + '\\n'\n",
    "\t\tsumCBR = 0\n",
    "\t\tnumVals = 0\n",
    "\t\tcurIntervalStart += 5\n",
    "\tj+=1\n",
    "\tif j%10000 == 0:\n",
    "\t\tprint(j)\n",
    "\tdata = file.readline().strip('\\n')\n",
    "\n",
    "cbrStr += str(sumCBR/numVals) + '\\n'\n",
    "\n",
    "print(\"Average CBR:\")\n",
    "print(cbrStr)"
   ]
  },
  {
   "cell_type": "code",
   "execution_count": null,
   "id": "81a3756a-009c-476d-a8e0-516bc0db4991",
   "metadata": {},
   "outputs": [],
   "source": []
  },
  {
   "cell_type": "code",
   "execution_count": null,
   "id": "ea5de974-8f0e-4c28-a08f-d1ce88f1f505",
   "metadata": {},
   "outputs": [],
   "source": []
  }
 ],
 "metadata": {
  "kernelspec": {
   "display_name": "Python 3 (ipykernel)",
   "language": "python",
   "name": "python3"
  },
  "language_info": {
   "codemirror_mode": {
    "name": "ipython",
    "version": 3
   },
   "file_extension": ".py",
   "mimetype": "text/x-python",
   "name": "python",
   "nbconvert_exporter": "python",
   "pygments_lexer": "ipython3",
   "version": "3.9.13"
  }
 },
 "nbformat": 4,
 "nbformat_minor": 5
}
