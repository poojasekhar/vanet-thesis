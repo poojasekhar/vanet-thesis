import sys

file = open("0cbrq.txt", "r")
data = file.readline().strip('\n')

sumCBR = 0
numVals = 0
j = 0
curIntervalStart = 0
cbrStr = ""
while data:
	first = data.find('\t')
	second = data.find('\t', first+1)
	third = data.find('\t', second+1)
	
	simTime = eval(data[first+1:second])
	cbr = eval(data[third+1:])
	if simTime <= curIntervalStart + 5:
		if cbr != -1:
			sumCBR += cbr
			numVals += 1
	else:
		if numVals > 0:
			cbrStr += str(curIntervalStart) + " - " + str(curIntervalStart + 5) + \
                      '\t' + str(sumCBR/numVals) + '\n'
		sumCBR = 0
		numVals = 0
		curIntervalStart += 5
	j+=1
	if j%10000 == 0:
		print(j)
	data = file.readline().strip('\n')

cbrStr += str(curIntervalStart) + " - " + str(curIntervalStart + 5) + \
                      '\t' + str(sumCBR/numVals) + '\n'

print("Average CBR:")
print(cbrStr)
