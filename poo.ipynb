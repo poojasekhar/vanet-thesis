{
 "cells": [
  {
   "cell_type": "markdown",
   "id": "f612e6b6-7e30-4696-82df-99bf00e05eff",
   "metadata": {},
   "source": [
    "# **Generating CBR DataFrame**"
   ]
  },
  {
   "cell_type": "code",
   "execution_count": 2,
   "id": "652b7698-999d-4de0-8ee1-065b2b23d2db",
   "metadata": {},
   "outputs": [],
   "source": [
    "import sys\n",
    "import os\n",
    "import pandas as pd\n",
    "from natsort import natsorted\n",
    "import decimal\n",
    "pd.set_option('display.max_rows', None)"
   ]
  },
  {
   "cell_type": "markdown",
   "id": "06d861a7-5a72-4d2f-bf11-320cce0ac2a7",
   "metadata": {},
   "source": [
    "**Variables to Set**"
   ]
  },
  {
   "cell_type": "code",
   "execution_count": 8,
   "id": "e27d115d-46d6-4c0a-b18a-dfd422923583",
   "metadata": {},
   "outputs": [],
   "source": [
    "directory = 'HIghway3km'\n",
    "cbr_file_name = '0cbrqtest.txt'"
   ]
  },
  {
   "cell_type": "markdown",
   "id": "6d7a5363-e477-4b1f-9d8a-f02706751b5e",
   "metadata": {},
   "source": [
    "##### **Viewing Transmission Powers**"
   ]
  },
  {
   "cell_type": "code",
   "execution_count": 9,
   "id": "05d1a12d-827f-41f6-ac06-bd7b478c50f3",
   "metadata": {},
   "outputs": [
    {
     "data": {
      "text/plain": [
       "['2mW', '4mW', '6mW', '8mW', '10mW', '12mW', '14mW', '16mW', '18mW', '20mW']"
      ]
     },
     "execution_count": 9,
     "metadata": {},
     "output_type": "execute_result"
    }
   ],
   "source": [
    "arr = natsorted(os.listdir(directory))\n",
    "arr"
   ]
  },
  {
   "cell_type": "markdown",
   "id": "ea8918f9-1fe7-473d-8bf1-c5d4500ead8c",
   "metadata": {},
   "source": [
    "##### **Generating CBR Values and Appending Data to Lists**"
   ]
  },
  {
   "cell_type": "code",
   "execution_count": 25,
   "id": "999e3491-0edd-42e5-a245-c084b9ba9708",
   "metadata": {},
   "outputs": [],
   "source": [
    "trans_power = []\n",
    "vehicle_density = []\n",
    "cbr_str = []\n",
    " \n",
    "for filename_1 in natsorted(os.listdir(directory)):\n",
    "    f = os.path.join(directory, filename_1)\n",
    "    for filename_2 in os.listdir(f):\n",
    "        b = os.path.join(f, filename_2) \n",
    "        g = os.path.join(b, cbr_file_name)\n",
    "        file = open(g, \"r\")\n",
    "        data = file.readline().strip('\\n')\n",
    "        sumCBR = 0\n",
    "        numVals = 0\n",
    "        j = 0\n",
    "        curIntervalStart = 0\n",
    "        cbrStr = \"\"\n",
    "        while data:\n",
    "            first = data.find('\\t')\n",
    "            second = data.find('\\t', first+1)\n",
    "            third = data.find('\\t', second+1)\n",
    "            simTime = eval(data[first+1:second])\n",
    "            cbr = eval(data[third+1:])\n",
    "            if simTime <= curIntervalStart + 5:\n",
    "                if cbr != -1:\n",
    "                    sumCBR += cbr\n",
    "                    numVals += 1\n",
    "            else:\n",
    "                if numVals > 0:\n",
    "                    cbrStr += str(curIntervalStart) + \" - \" + str(curIntervalStart + 5) + '\\t' + str(sumCBR/numVals) + '\\n'\n",
    "                    sumCBR = 0\n",
    "                    numVals = 0\n",
    "                    curIntervalStart += 5\n",
    "            j+=1\n",
    "            if j%10000 == 0:\n",
    "                print(j)\n",
    "            data = file.readline().strip('\\n')\n",
    "        cbrStr += str(curIntervalStart) + \" - \" + str(curIntervalStart + 5) + \\\n",
    "                      '\\t' + str(sumCBR/numVals) + '\\n'\n",
    "       \n",
    "        trans_power.append(filename_1)\n",
    "        vehicle_density.append(filename_2)\n",
    "        #val = sumCBR/numVals\n",
    "        val = round(decimal.Decimal(sumCBR) / decimal.Decimal(numVals), 9)\n",
    "        cbr_str.append(val)      "
   ]
  },
  {
   "cell_type": "markdown",
   "id": "11a48764-31a1-4381-afd9-2b029dc77160",
   "metadata": {},
   "source": [
    "**Creating DataFrame**"
   ]
  },
  {
   "cell_type": "code",
   "execution_count": 3,
   "id": "79a25b92-a76f-4ead-b43d-22b74ccf8fe2",
   "metadata": {},
   "outputs": [
    {
     "ename": "NameError",
     "evalue": "name 'trans_power' is not defined",
     "output_type": "error",
     "traceback": [
      "\u001b[1;31m---------------------------------------------------------------------------\u001b[0m",
      "\u001b[1;31mNameError\u001b[0m                                 Traceback (most recent call last)",
      "\u001b[1;32m~\\AppData\\Local\\Temp/ipykernel_18724/2928044053.py\u001b[0m in \u001b[0;36m<module>\u001b[1;34m\u001b[0m\n\u001b[1;32m----> 1\u001b[1;33m df = pd.DataFrame(list(zip(trans_power, vehicle_density, cbr_str)),\n\u001b[0m\u001b[0;32m      2\u001b[0m                columns =['Transmission Power', 'Vehicle Density', 'CBR'], index=None)\n\u001b[0;32m      3\u001b[0m \u001b[0mdf\u001b[0m\u001b[1;33m\u001b[0m\u001b[1;33m\u001b[0m\u001b[0m\n",
      "\u001b[1;31mNameError\u001b[0m: name 'trans_power' is not defined"
     ]
    }
   ],
   "source": [
    "df = pd.DataFrame(list(zip(trans_power, vehicle_density, cbr_str)),\n",
    "               columns =['Transmission Power', 'Vehicle Density', 'CBR'], index=None)\n",
    "df"
   ]
  },
  {
   "cell_type": "markdown",
   "id": "28a56ef1-3b48-4a8b-953a-b3b724940948",
   "metadata": {},
   "source": [
    "**Outputting CSV File**"
   ]
  },
  {
   "cell_type": "code",
   "execution_count": 6,
   "id": "54912982-c789-4c8c-bc5d-3ad252db9c83",
   "metadata": {},
   "outputs": [],
   "source": [
    "df.to_csv(\"cbr_results\", index=False)"
   ]
  }
 ],
 "metadata": {
  "kernelspec": {
   "display_name": "Python 3 (ipykernel)",
   "language": "python",
   "name": "python3"
  },
  "language_info": {
   "codemirror_mode": {
    "name": "ipython",
    "version": 3
   },
   "file_extension": ".py",
   "mimetype": "text/x-python",
   "name": "python",
   "nbconvert_exporter": "python",
   "pygments_lexer": "ipython3",
   "version": "3.9.7"
  }
 },
 "nbformat": 4,
 "nbformat_minor": 5
}
