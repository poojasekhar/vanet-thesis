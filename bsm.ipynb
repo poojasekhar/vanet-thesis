{
 "cells": [
  {
   "cell_type": "code",
   "execution_count": 16,
   "id": "1e955124-cf99-43a9-936a-c9c7570a5124",
   "metadata": {},
   "outputs": [
    {
     "name": "stdout",
     "output_type": "stream",
     "text": [
      "Total Sent: 61872\n",
      "Total Received (not unique): 1205865\n",
      "Total Received (unique): 61752\n",
      "Total Lost: 120\n",
      "BER (lost/sent): 0.001939487975174554\n"
     ]
    }
   ],
   "source": [
    "# Calculates number of lost BSMs from simulation\n",
    "\n",
    "import sys\n",
    "\n",
    "def next_line(file):\n",
    "    line = file.readline()\n",
    "    return line\n",
    "\n",
    "\n",
    "file = open(\"0bsmqtest.txt\", \"r\")\n",
    "data = next_line(file).strip('\\n')\n",
    "\n",
    "#bsmList = []\n",
    "bsmDict = {}\n",
    "totalSent = 0\n",
    "totalReceived = 0\n",
    "totalUnique = 0\n",
    "sent = open(\"0sentqtest.txt\", \"r\")\n",
    "line = next_line(sent).strip('\\n')\n",
    "while line:\n",
    "\tfirst = line.find('\\t')\n",
    "\tsecond = line.find('\\t', first+1)\n",
    "\tvId = line[:first]\n",
    "\tnumSent = line[first+1:second]\n",
    "\tnumReceived = line[second+1:]\n",
    "\ttotalSent += eval(numSent)\n",
    "\ttotalReceived += eval(numReceived)\n",
    "\t\n",
    "\tsublist = [i for i in range(1, eval(numSent)+1)] #sublist = [i for i in range(eval(line)-1999, eval(line)+1)] # originally range(1, eval(line)+1)\n",
    "\t#bsmList.append(sublist)\n",
    "\tbsmDict[vId] = sublist\n",
    "\tline = next_line(sent).strip('\\n')\n",
    "\n",
    "vDict = {}\n",
    "ids = open(\"0idsqtest.txt\", \"r\")\n",
    "idLine = next_line(ids).strip('\\n')\n",
    "while idLine:\n",
    "\tu = idLine.find('_')\n",
    "\tvId = idLine[u+1:] # this is the node[] value, from getParentModule()->getIndex()\n",
    "\tfId = idLine[0:u] # this is the mobility->getExternalId() value\n",
    "\tvDict[fId] = vId\n",
    "\tidLine = next_line(ids).strip('\\n')\n",
    "\n",
    "j = 0\n",
    "while data:\n",
    "\t#if data[0] != 'v':\n",
    "\t#\tdata = next_line(file).strip('\\n')\n",
    "\t#\tcontinue\n",
    "\tfirst = data.find('_')\n",
    "\tsecond = data.find('_', first+1)\n",
    "\tthird = data.find('_', second+1)\n",
    "\treceiverID = vDict[data[:first]]\n",
    "\tsenderID = vDict[data[first+1:second]]\n",
    "\tbsmID = eval(data[second+1:third])\n",
    "\tif bsmID in bsmDict[senderID]:\n",
    "\t\tbsmDict[senderID].remove(bsmID)\n",
    "\t\ttotalUnique += 1\n",
    "\tdata = next_line(file).strip('\\n')\n",
    "\t#j+=1\n",
    "\t#if j%10000 == 0:\n",
    "\t\t#print(j)\n",
    "\t\n",
    "#print(bsmList)\n",
    "numLost = 0\n",
    "for v in bsmDict.keys():\n",
    "\t#print(len(bsmDict[v]))\n",
    "\tnumLost += len(bsmDict[v])\n",
    "\n",
    "print(\"Total Sent:\", totalSent)\n",
    "print(\"Total Received (not unique):\", totalReceived)\n",
    "print(\"Total Received (unique):\", totalUnique)\n",
    "print(\"Total Lost:\", numLost)\n",
    "print(\"BER (lost/sent):\", float(numLost/totalSent))\n"
   ]
  },
  {
   "cell_type": "code",
   "execution_count": null,
   "id": "2a8b0208-026f-4695-af5a-af56d0538e66",
   "metadata": {},
   "outputs": [],
   "source": []
  }
 ],
 "metadata": {
  "kernelspec": {
   "display_name": "Python 3 (ipykernel)",
   "language": "python",
   "name": "python3"
  },
  "language_info": {
   "codemirror_mode": {
    "name": "ipython",
    "version": 3
   },
   "file_extension": ".py",
   "mimetype": "text/x-python",
   "name": "python",
   "nbconvert_exporter": "python",
   "pygments_lexer": "ipython3",
   "version": "3.9.13"
  }
 },
 "nbformat": 4,
 "nbformat_minor": 5
}
