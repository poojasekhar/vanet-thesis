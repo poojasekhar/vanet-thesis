{
 "cells": [
  {
   "cell_type": "code",
   "execution_count": 3,
   "id": "615878fa-b6c8-45c8-b357-9f4ac17f870b",
   "metadata": {},
   "outputs": [
    {
     "name": "stdout",
     "output_type": "stream",
     "text": [
      "10000\n",
      "20000\n",
      "30000\n",
      "40000\n",
      "50000\n",
      "60000\n",
      "70000\n",
      "80000\n",
      "90000\n",
      "100000\n",
      "110000\n",
      "120000\n",
      "Average CBR:\n",
      "0.4893098095519107\n",
      "0.5284910367470882\n",
      "0.526332172303256\n",
      "0.5296296331682433\n",
      "0.5280096028209681\n",
      "0.527084143633173\n",
      "0.5306003686488272\n",
      "0.5299447803163498\n",
      "0.5291751484212267\n",
      "0.5307238395909925\n",
      "0.5324871921782389\n",
      "0.5325469145230921\n",
      "0.5342563928514226\n",
      "0.5331359584598189\n",
      "0.5319468004487935\n",
      "0.5329038824093323\n",
      "0.5321803069402175\n",
      "0.5312535777280739\n",
      "0.5317869842923577\n",
      "0.5277526803003691\n",
      "\n"
     ]
    }
   ],
   "source": [
    "import sys\n",
    "\n",
    "file = open(\"0cbrqtest.txt\", \"r\")\n",
    "data = file.readline().strip('\\n')\n",
    "\n",
    "sumCBR = 0\n",
    "numVals = 0\n",
    "j = 0\n",
    "curIntervalStart = 0\n",
    "cbrStr = \"\"\n",
    "while data:\n",
    "\tfirst = data.find('\\t')\n",
    "\tsecond = data.find('\\t', first+1)\n",
    "\tthird = data.find('\\t', second+1)\n",
    "\t\n",
    "\tsimTime = eval(data[first+1:second])\n",
    "\tcbr = eval(data[third+1:])\n",
    "\tif simTime <= curIntervalStart + 5:\n",
    "\t\tif cbr != -1:\n",
    "\t\t\tsumCBR += cbr\n",
    "\t\t\tnumVals += 1\n",
    "\telse:\n",
    "\t\tif numVals > 0:\n",
    "\t\t\tcbrStr += str(sumCBR/numVals) + '\\n'\n",
    "\t\tsumCBR = 0\n",
    "\t\tnumVals = 0\n",
    "\t\tcurIntervalStart += 5\n",
    "\tj+=1\n",
    "\tif j%10000 == 0:\n",
    "\t\tprint(j)\n",
    "\tdata = file.readline().strip('\\n')\n",
    "\n",
    "cbrStr += str(sumCBR/numVals) + '\\n'\n",
    "\n",
    "print(\"Average CBR:\")\n",
    "print(cbrStr)"
   ]
  },
  {
   "cell_type": "code",
   "execution_count": null,
   "id": "81a3756a-009c-476d-a8e0-516bc0db4991",
   "metadata": {},
   "outputs": [],
   "source": []
  },
  {
   "cell_type": "code",
   "execution_count": null,
   "id": "ea5de974-8f0e-4c28-a08f-d1ce88f1f505",
   "metadata": {},
   "outputs": [],
   "source": []
  }
 ],
 "metadata": {
  "kernelspec": {
   "display_name": "Python 3 (ipykernel)",
   "language": "python",
   "name": "python3"
  },
  "language_info": {
   "codemirror_mode": {
    "name": "ipython",
    "version": 3
   },
   "file_extension": ".py",
   "mimetype": "text/x-python",
   "name": "python",
   "nbconvert_exporter": "python",
   "pygments_lexer": "ipython3",
   "version": "3.9.13"
  }
 },
 "nbformat": 4,
 "nbformat_minor": 5
}
