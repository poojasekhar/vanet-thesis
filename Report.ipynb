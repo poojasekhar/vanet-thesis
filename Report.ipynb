{
 "cells": [
  {
   "cell_type": "code",
   "execution_count": 46,
   "id": "e760306f-97f7-4b5c-afbc-608ad222e854",
   "metadata": {},
   "outputs": [
    {
     "data": {
      "text/html": [
       "<div>\n",
       "<style scoped>\n",
       "    .dataframe tbody tr th:only-of-type {\n",
       "        vertical-align: middle;\n",
       "    }\n",
       "\n",
       "    .dataframe tbody tr th {\n",
       "        vertical-align: top;\n",
       "    }\n",
       "\n",
       "    .dataframe thead th {\n",
       "        text-align: right;\n",
       "    }\n",
       "</style>\n",
       "<table border=\"1\" class=\"dataframe\">\n",
       "  <thead>\n",
       "    <tr style=\"text-align: right;\">\n",
       "      <th></th>\n",
       "      <th>2 mW</th>\n",
       "      <th>4 mW</th>\n",
       "      <th>6 mW</th>\n",
       "      <th>8 mW</th>\n",
       "      <th>10 mW</th>\n",
       "      <th>12 mW</th>\n",
       "      <th>14 mW</th>\n",
       "      <th>16 mW</th>\n",
       "      <th>18 mW</th>\n",
       "      <th>20 mW</th>\n",
       "      <th>QBACC</th>\n",
       "    </tr>\n",
       "  </thead>\n",
       "  <tbody>\n",
       "    <tr>\n",
       "      <th>0</th>\n",
       "      <td>0.004283</td>\n",
       "      <td>0.005552</td>\n",
       "      <td>0.0072</td>\n",
       "      <td>0.008331</td>\n",
       "      <td>0.008541414141414141</td>\n",
       "      <td>0.008978</td>\n",
       "      <td>0.008896969696969697</td>\n",
       "      <td>0.008477</td>\n",
       "      <td>0.008994</td>\n",
       "      <td>0.008315</td>\n",
       "      <td>0.001746</td>\n",
       "    </tr>\n",
       "  </tbody>\n",
       "</table>\n",
       "</div>"
      ],
      "text/plain": [
       "       2 mW      4 mW    6 mW      8 mW                  10 mW     12 mW  \\\n",
       "0  0.004283  0.005552  0.0072  0.008331   0.008541414141414141  0.008978   \n",
       "\n",
       "                   14 mW     16 mW     18 mW     20 mW     QBACC  \n",
       "0   0.008896969696969697  0.008477  0.008994  0.008315  0.001746  "
      ]
     },
     "execution_count": 46,
     "metadata": {},
     "output_type": "execute_result"
    }
   ],
   "source": [
    "import pandas as pd\n",
    "import numpy as np\n",
    "import seaborn as sns\n",
    "import matplotlib.pyplot as plt\n",
    "\n",
    "df = pd.read_excel(\"BSM.xlsx\")\n",
    "\n",
    "df = df.reset_index(drop=True)\n",
    "df"
   ]
  },
  {
   "cell_type": "code",
   "execution_count": 53,
   "id": "8848e9ee-cd71-4da1-906d-deef6bb5a2e3",
   "metadata": {},
   "outputs": [
    {
     "data": {
      "image/png": "[encoded data removed]",
      "text/plain": [
       "<Figure size 640x480 with 1 Axes>"
      ]
     },
     "metadata": {},
     "output_type": "display_data"
    }
   ],
   "source": [
    "poo = sns.barplot(data=df,color=None, palette='rocket_r')\n",
    "plt.xlabel(\"Power\")\n",
    "plt.ylabel(\"BER\")\n",
    "fig = poo.get_figure()\n",
    "fig.savefig(\"output.png\")\n"
   ]
  },
  {
   "cell_type": "code",
   "execution_count": 52,
   "id": "f95356d0-2add-4c0e-99ca-4ba996f8b8dd",
   "metadata": {},
   "outputs": [
    {
     "ename": "NameError",
     "evalue": "name 'sns_plot' is not defined",
     "output_type": "error",
     "traceback": [
      "\u001b[1;31m---------------------------------------------------------------------------\u001b[0m",
      "\u001b[1;31mNameError\u001b[0m                                 Traceback (most recent call last)",
      "\u001b[1;32m~\\AppData\\Local\\Temp\\ipykernel_15696\\1589629195.py\u001b[0m in \u001b[0;36m<module>\u001b[1;34m\u001b[0m\n\u001b[1;32m----> 1\u001b[1;33m \u001b[0mfig\u001b[0m \u001b[1;33m=\u001b[0m \u001b[0msns_plot\u001b[0m\u001b[1;33m.\u001b[0m\u001b[0mget_figure\u001b[0m\u001b[1;33m(\u001b[0m\u001b[1;33m)\u001b[0m\u001b[1;33m\u001b[0m\u001b[1;33m\u001b[0m\u001b[0m\n\u001b[0m\u001b[0;32m      2\u001b[0m \u001b[0mfig\u001b[0m\u001b[1;33m.\u001b[0m\u001b[0msavefig\u001b[0m\u001b[1;33m(\u001b[0m\u001b[1;34m\"output.png\"\u001b[0m\u001b[1;33m)\u001b[0m\u001b[1;33m\u001b[0m\u001b[1;33m\u001b[0m\u001b[0m\n",
      "\u001b[1;31mNameError\u001b[0m: name 'sns_plot' is not defined"
     ]
    }
   ],
   "source": []
  },
  {
   "cell_type": "code",
   "execution_count": null,
   "id": "1c26cb35-7bdc-4628-9a51-0205e6cacd27",
   "metadata": {},
   "outputs": [],
   "source": []
  }
 ],
 "metadata": {
  "kernelspec": {
   "display_name": "Python 3 (ipykernel)",
   "language": "python",
   "name": "python3"
  },
  "language_info": {
   "codemirror_mode": {
    "name": "ipython",
    "version": 3
   },
   "file_extension": ".py",
   "mimetype": "text/x-python",
   "name": "python",
   "nbconvert_exporter": "python",
   "pygments_lexer": "ipython3",
   "version": "3.9.13"
  }
 },
 "nbformat": 4,
 "nbformat_minor": 5
}
